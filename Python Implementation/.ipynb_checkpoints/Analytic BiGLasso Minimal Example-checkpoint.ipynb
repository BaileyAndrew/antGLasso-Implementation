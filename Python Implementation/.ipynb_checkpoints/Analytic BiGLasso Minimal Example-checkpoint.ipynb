{
 "cells": [
  {
   "cell_type": "code",
   "execution_count": 14,
   "id": "9310a837",
   "metadata": {},
   "outputs": [],
   "source": [
    "import dependencies\n",
    "import line_profiler\n",
    "from Scripts.generate_data import generate_Ys\n",
    "from Scripts.scBiGLasso import analyticBiGLasso\n",
    "from Scripts.utilities import generate_confusion_matrices\n",
    "from Scripts.utilities import precision, recall, accuracy\n",
    "%load_ext line_profiler\n",
    "%load_ext autoreload\n",
    "%autoreload 2"
   ]
  },
  {
   "cell_type": "code",
   "execution_count": 15,
   "id": "64cffb59",
   "metadata": {},
   "outputs": [
    {
     "data": {
      "text/plain": [
       "(100, 100, 100)"
      ]
     },
     "execution_count": 15,
     "metadata": {},
     "output_type": "execute_result"
    }
   ],
   "source": [
    "# Standard way to generate matrix variate data, takes ~1 second\n",
    "Psi_gen, Theta_gen, Ys = generate_Ys(\n",
    "    m=100,\n",
    "    p=(p:=100),\n",
    "    n=(n:=100),\n",
    "    expected_nonzero_psi=n**2 / 5,\n",
    "    expected_nonzero_theta=p**2 / 5,\n",
    "    structure=\"Kronecker Sum\"\n",
    ")\n",
    "Ys.shape"
   ]
  },
  {
   "cell_type": "code",
   "execution_count": 16,
   "id": "9595c7d4",
   "metadata": {},
   "outputs": [
    {
     "name": "stdout",
     "output_type": "stream",
     "text": [
      "===Psi===\n",
      "[[ 594.   32.]\n",
      " [ 454. 8820.]]\n",
      "precision(Psi_cm)=0.949 \n",
      "recall(Psi_cm)=0.567 \n",
      "accuracy(Psi_cm)=0.951\n",
      "\n",
      "==Theta==\n",
      "[[ 780.   12.]\n",
      " [ 674. 8434.]]\n",
      "precision(Theta_cm)=0.985 \n",
      "recall(Theta_cm)=0.536 \n",
      "accuracy(Theta_cm)=0.931\n"
     ]
    }
   ],
   "source": [
    "Psi, Theta = analyticBiGLasso(\n",
    "    Ys,\n",
    "    beta_1 = 0.02,\n",
    "    beta_2 = 0.02 \n",
    ")\n",
    "print(\"===Psi===\")\n",
    "print(Psi_cm := generate_confusion_matrices(Psi, Psi_gen, mode='Negative'))\n",
    "print(\n",
    "    f\"{precision(Psi_cm)=:.3f}\",\n",
    "    f\"\\n{recall(Psi_cm)=:.3f}\",\n",
    "    f\"\\n{accuracy(Psi_cm)=:.3f}\"\n",
    ")\n",
    "print(\"\\n==Theta==\")\n",
    "print(Theta_cm := generate_confusion_matrices(Theta, Theta_gen, mode='Negative'))\n",
    "print(\n",
    "    f\"{precision(Theta_cm)=:.3f}\",\n",
    "    f\"\\n{recall(Theta_cm)=:.3f}\",\n",
    "    f\"\\n{accuracy(Theta_cm)=:.3f}\"\n",
    ")"
   ]
  },
  {
   "cell_type": "code",
   "execution_count": 17,
   "id": "8e139599",
   "metadata": {},
   "outputs": [],
   "source": [
    "# You can get detailed runtime info on analyticBiGLasso by running this cell\n",
    "kwargs = {\n",
    "    \"Ys\": Ys,\n",
    "    \"beta_1\": 0.02,\n",
    "    \"beta_2\": 0.02,\n",
    "}\n",
    "%lprun -f analyticBiGLasso analyticBiGLasso(**kwargs)"
   ]
  }
 ],
 "metadata": {
  "kernelspec": {
   "display_name": "Python 3 (ipykernel)",
   "language": "python",
   "name": "python3"
  },
  "language_info": {
   "codemirror_mode": {
    "name": "ipython",
    "version": 3
   },
   "file_extension": ".py",
   "mimetype": "text/x-python",
   "name": "python",
   "nbconvert_exporter": "python",
   "pygments_lexer": "ipython3",
   "version": "3.9.12"
  }
 },
 "nbformat": 4,
 "nbformat_minor": 5
}
