{
 "cells": [
  {
   "cell_type": "code",
   "execution_count": 1,
   "id": "b479c08f",
   "metadata": {},
   "outputs": [
    {
     "name": "stdout",
     "output_type": "stream",
     "text": [
      "Python Version 3.9.12 (main, Apr  5 2022, 01:53:17) \n",
      "[Clang 12.0.0 ]\n",
      "Numpy Version 1.21.5\n",
      "Scipy Version 1.7.3\n",
      "Sklearn Version 1.0.2\n"
     ]
    }
   ],
   "source": [
    "import dependencies\n",
    "import line_profiler\n",
    "import numpy as np\n",
    "\n",
    "from Scripts.generate_data import generate_Ys\n",
    "from Scripts.scBiGLasso import analyticBiGLasso\n",
    "from Scripts.utilities import generate_confusion_matrices\n",
    "from Scripts.utilities import precision, recall, accuracy\n",
    "from Scripts.niBiGLasso import niBiGLasso\n",
    "\n",
    "np.set_printoptions(precision=3, suppress=True)\n",
    "%load_ext line_profiler\n",
    "%load_ext autoreload\n",
    "%autoreload 2"
   ]
  },
  {
   "cell_type": "code",
   "execution_count": 2,
   "id": "6800ec67",
   "metadata": {},
   "outputs": [
    {
     "data": {
      "text/plain": [
       "(100, 100, 100)"
      ]
     },
     "execution_count": 2,
     "metadata": {},
     "output_type": "execute_result"
    }
   ],
   "source": [
    "# Standard way to generate matrix variate data, takes ~1 second\n",
    "Psi_gen, Theta_gen, Ys = generate_Ys(\n",
    "    m=100, # Note that we only need m=3 for good vindication, whereas\n",
    "    p=(p:=100), # m needs to be much larger to get good estimates in general\n",
    "    n=(n:=100), # anyways (in this alg and scalable version).\n",
    "    expected_nonzero_psi=n**2 / 5, # (divide by 5 for sparsity)\n",
    "    expected_nonzero_theta=p**2 / 5,\n",
    "    structure=\"Kronecker Sum\"\n",
    ")\n",
    "Ys.shape"
   ]
  },
  {
   "cell_type": "code",
   "execution_count": 3,
   "id": "86d01f3a",
   "metadata": {},
   "outputs": [
    {
     "name": "stdout",
     "output_type": "stream",
     "text": [
      "Psi vindication: 0.9999994913096508\n",
      "Theta vindication: 0.9999994795795147\n",
      "===Psi===\n",
      "[[ 526.  162.]\n",
      " [ 484. 8728.]]\n",
      "precision(Psi_cm)=0.765 \n",
      "recall(Psi_cm)=0.521 \n",
      "accuracy(Psi_cm)=0.935\n",
      "\n",
      "==Theta==\n",
      "[[ 530.  182.]\n",
      " [ 510. 8678.]]\n",
      "precision(Theta_cm)=0.744 \n",
      "recall(Theta_cm)=0.510 \n",
      "accuracy(Theta_cm)=0.930\n"
     ]
    }
   ],
   "source": [
    "nibig = niBiGLasso()\n",
    "T_psi, T_theta = nibig.get_empiricals(Ys)\n",
    "nibig.fit(T_psi, T_theta)\n",
    "Psi, Theta = nibig.shrink(0.02, 0.02)\n",
    "nibig.print_vindication()\n",
    "print(\"===Psi===\")\n",
    "print(Psi_cm := generate_confusion_matrices(Psi, Psi_gen, mode='Negative'))\n",
    "print(\n",
    "    f\"{precision(Psi_cm)=:.3f}\",\n",
    "    f\"\\n{recall(Psi_cm)=:.3f}\",\n",
    "    f\"\\n{accuracy(Psi_cm)=:.3f}\"\n",
    ")\n",
    "print(\"\\n==Theta==\")\n",
    "print(Theta_cm := generate_confusion_matrices(Theta, Theta_gen, mode='Negative'))\n",
    "print(\n",
    "    f\"{precision(Theta_cm)=:.3f}\",\n",
    "    f\"\\n{recall(Theta_cm)=:.3f}\",\n",
    "    f\"\\n{accuracy(Theta_cm)=:.3f}\"\n",
    ")"
   ]
  },
  {
   "cell_type": "code",
   "execution_count": 12,
   "id": "3bd7c006",
   "metadata": {},
   "outputs": [],
   "source": [
    "# Investigate runtime\n",
    "from Scripts.niBiGLasso import no_hassle\n",
    "nibig = niBiGLasso()\n",
    "kwargs = {\n",
    "    \"Ys\": Ys,\n",
    "    \"beta_1\": 0.02,\n",
    "    \"beta_2\": 0.02,\n",
    "    \"vindicate\": False, # Takes 90% of the runtime if true!\n",
    "    \"nibig\": nibig\n",
    "}\n",
    "%lprun -f no_hassle -f nibig.get_empiricals -f nibig.fit no_hassle(**kwargs)"
   ]
  },
  {
   "cell_type": "markdown",
   "id": "d52b0d43",
   "metadata": {},
   "source": [
    "Typical output of the runtime calculation:\n",
    "```\n",
    "Line #      Hits         Time  Per Hit   % Time  Line Contents\n",
    "==============================================================\n",
    "   205                                           def no_hassle(Ys, beta_1, beta_2, vindicate=True, nibig=None):\n",
    "   206         1          3.0      3.0      0.0      if nibig is None:\n",
    "   207                                                   nibig = niBiGLasso()\n",
    "   208         1      73866.0  73866.0     67.0      T_psi, T_theta = nibig.get_empiricals(Ys)\n",
    "   209         1      10723.0  10723.0      9.7      nibig.fit(T_psi, T_theta)\n",
    "   210         1      25699.0  25699.0     23.3      Psi, Theta = nibig.shrink(0.02, 0.02)\n",
    "   211         1          1.0      1.0      0.0      if vindicate:\n",
    "   212                                                   vinds = nibig.vindicate()\n",
    "   213                                               else:\n",
    "   214         1          0.0      0.0      0.0          vinds = None\n",
    "   215         1          1.0      1.0      0.0      return Psi, Theta, vinds\n",
    "```"
   ]
  }
 ],
 "metadata": {
  "kernelspec": {
   "display_name": "Python 3 (ipykernel)",
   "language": "python",
   "name": "python3"
  },
  "language_info": {
   "codemirror_mode": {
    "name": "ipython",
    "version": 3
   },
   "file_extension": ".py",
   "mimetype": "text/x-python",
   "name": "python",
   "nbconvert_exporter": "python",
   "pygments_lexer": "ipython3",
   "version": "3.9.12"
  }
 },
 "nbformat": 4,
 "nbformat_minor": 5
}
