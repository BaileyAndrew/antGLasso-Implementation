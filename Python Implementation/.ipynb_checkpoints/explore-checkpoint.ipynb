{
 "cells": [
  {
   "cell_type": "markdown",
   "id": "734a7041",
   "metadata": {},
   "source": [
    "# Explore\n",
    "\n",
    "This file demonstrates the code"
   ]
  },
  {
   "cell_type": "code",
   "execution_count": 1,
   "id": "8aa817f4",
   "metadata": {},
   "outputs": [
    {
     "name": "stdout",
     "output_type": "stream",
     "text": [
      "Python Version 3.9.12 (main, Apr  5 2022, 01:53:17) \n",
      "[Clang 12.0.0 ]\n",
      "Numpy Version 1.21.5\n",
      "Scipy Version 1.7.3\n",
      "Sklearn Version 1.0.2\n",
      "Matplotlib Version 3.5.1\n",
      "Line Profiler Version 3.3.1\n",
      "Memory Profiler Version 0.58.0\n"
     ]
    }
   ],
   "source": [
    "import dependencies\n",
    "import soft_dependencies"
   ]
  },
  {
   "cell_type": "code",
   "execution_count": 2,
   "id": "da3b16be",
   "metadata": {},
   "outputs": [],
   "source": [
    "import numpy as np\n",
    "import matplotlib.pyplot as plt\n",
    "import line_profiler\n",
    "import memory_profiler\n",
    "\n",
    "np.set_printoptions(precision=3, suppress=True)\n",
    "%load_ext line_profiler\n",
    "%load_ext memory_profiler\n",
    "%load_ext autoreload\n",
    "%autoreload 2"
   ]
  },
  {
   "cell_type": "code",
   "execution_count": 3,
   "id": "35c73bba",
   "metadata": {},
   "outputs": [],
   "source": [
    "from Scripts.generate_data import generate_Ys, generate_batched_Ys\n",
    "from Scripts.scBiGLasso import scBiGLasso\n",
    "from Scripts.utilities import generate_confusion_matrices\n",
    "from Scripts.utilities import precision, recall, accuracy"
   ]
  },
  {
   "cell_type": "markdown",
   "id": "e3e4a9be",
   "metadata": {},
   "source": [
    "## Explore Results\n",
    "How good is it?  Does it work like we expect?"
   ]
  },
  {
   "cell_type": "code",
   "execution_count": 16,
   "id": "87150edd",
   "metadata": {},
   "outputs": [
    {
     "data": {
      "text/plain": [
       "(100, 100, 100)"
      ]
     },
     "execution_count": 16,
     "metadata": {},
     "output_type": "execute_result"
    }
   ],
   "source": [
    "# Standard way to generate matrix variate data\n",
    "Psi_gen, Theta_gen, Ys = generate_Ys(\n",
    "    m=100,\n",
    "    p=(p:=100),\n",
    "    n=(n:=100),\n",
    "    expected_nonzero_psi=n**2 / 5,\n",
    "    expected_nonzero_theta=p**2 / 5,\n",
    "    structure=\"Kronecker Sum\"\n",
    ")\n",
    "Ys.shape"
   ]
  },
  {
   "cell_type": "code",
   "execution_count": null,
   "id": "9a59d32f",
   "metadata": {},
   "outputs": [],
   "source": [
    "# Can also generate it in batches\n",
    "# Unfortunately this isn't so useful, as it would only notably speed up\n",
    "# results for large n/p, but it runs out of memory for large n/p\n",
    "# (My computer runs out if n=p=100, batches=5 for example)\n",
    "Psi_gen, Theta_gen, Ys = generate_matrix_variate_data(\n",
    "    m=10,\n",
    "    n=(n:=20),\n",
    "    p=(p:=20),\n",
    "    expected_nonzero_psi=n**2 / 5,\n",
    "    expected_nonzero_theta=p**2 / 5,\n",
    "    size=10,\n",
    "    structure=\"Kronecker Sum\"\n",
    ")\n",
    "display(Ys.shape)\n",
    "\n",
    "# Remove batches so that results can be used elsewhere\n",
    "Psi_gen = Psi_gen[0, ...]\n",
    "Theta_gen = Theta_gen[0, ...]\n",
    "Ys = Ys[0, ...]"
   ]
  },
  {
   "cell_type": "code",
   "execution_count": 7,
   "id": "28378b88",
   "metadata": {},
   "outputs": [
    {
     "name": "stdout",
     "output_type": "stream",
     "text": [
      "===Psi===\n",
      "[[   0.    0.]\n",
      " [ 424. 3116.]]\n",
      "precision(Psi_cm)=1.000 \n",
      "recall(Psi_cm)=0.000 \n",
      "accuracy(Psi_cm)=0.880\n",
      "\n",
      "==Theta==\n",
      "[[   0.    0.]\n",
      " [ 506. 3034.]]\n",
      "precision(Theta_cm)=1.000 \n",
      "recall(Theta_cm)=0.000 \n",
      "accuracy(Theta_cm)=0.857\n"
     ]
    }
   ],
   "source": [
    "Psi, Theta = scBiGLasso(\n",
    "    N = 100,\n",
    "    eps = 10e-4,\n",
    "    Ys = Ys,\n",
    "    beta_1 = 0.7, #For perfect precision: .4 for Kron Prod, .7 for Kron Sum\n",
    "    beta_2 = 0.7\n",
    ")\n",
    "print(\"===Psi===\")\n",
    "print(Psi_cm := generate_confusion_matrices(Psi, Psi_gen, mode='Negative'))\n",
    "print(\n",
    "    f\"{precision(Psi_cm)=:.3f}\",\n",
    "    f\"\\n{recall(Psi_cm)=:.3f}\",\n",
    "    f\"\\n{accuracy(Psi_cm)=:.3f}\"\n",
    ")\n",
    "print(\"\\n==Theta==\")\n",
    "print(Theta_cm := generate_confusion_matrices(Theta, Theta_gen, mode='Negative'))\n",
    "print(\n",
    "    f\"{precision(Theta_cm)=:.3f}\",\n",
    "    f\"\\n{recall(Theta_cm)=:.3f}\",\n",
    "    f\"\\n{accuracy(Theta_cm)=:.3f}\"\n",
    ")"
   ]
  },
  {
   "cell_type": "markdown",
   "id": "92bbb64f",
   "metadata": {},
   "source": [
    "## Explore Performance\n",
    "How fast is it?  How much memory does it use?\n",
    "\n",
    "<font size=-1>_You have to run these cells yourself to see results_</font>"
   ]
  },
  {
   "cell_type": "code",
   "execution_count": 6,
   "id": "04cdf8b5",
   "metadata": {},
   "outputs": [],
   "source": [
    "# Time to generate data\n",
    "from Scripts.generate_data import matrix_normal_ks\n",
    "kwargs_gen = {\n",
    "    'm': 100,\n",
    "    'p': (p:=100),\n",
    "    'n': (n:=100),\n",
    "    'structure': 'Kronecker Sum',\n",
    "    'expected_nonzero_psi': n**2 / 5,\n",
    "    'expected_nonzero_theta': p**2 / 5\n",
    "}\n",
    "%lprun -f generate_Ys -f matrix_normal_ks generate_Ys(**kwargs_gen)"
   ]
  },
  {
   "cell_type": "code",
   "execution_count": 17,
   "id": "2634ca32",
   "metadata": {},
   "outputs": [],
   "source": [
    "# Time to run scBiGLasso\n",
    "from Scripts.scBiGLasso import _scBiGLasso_internal, _calculate_A\n",
    "from Scripts.utilities import LASSO\n",
    "\n",
    "kwargs = {\n",
    "    \"N\": 100,\n",
    "    \"eps\": 10e-3,\n",
    "    \"Ys\": Ys,\n",
    "    \"beta_1\": 0.7,\n",
    "    \"beta_2\": 0.7\n",
    "}\n",
    "%lprun -f scBiGLasso -f _scBiGLasso_internal -f LASSO -f _calculate_A scBiGLasso(**kwargs)"
   ]
  },
  {
   "cell_type": "code",
   "execution_count": 10,
   "id": "48ab2779",
   "metadata": {},
   "outputs": [
    {
     "name": "stdout",
     "output_type": "stream",
     "text": [
      "\n"
     ]
    }
   ],
   "source": [
    "# Info on memory usage\n",
    "# Honestly, the results don't seem useful?\n",
    "%mprun -f scBiGLasso -f _scBiGLasso_internal -f _calculate_A scBiGLasso(**kwargs)"
   ]
  },
  {
   "cell_type": "markdown",
   "id": "564e89d3",
   "metadata": {},
   "source": [
    "# Explore Results\n",
    "How does it do for different $\\beta$?  For different densities?\n",
    "\n",
    "<font size=-1>_(May take a while to run)_</font>"
   ]
  },
  {
   "cell_type": "code",
   "execution_count": 8,
   "id": "eba8c02f",
   "metadata": {},
   "outputs": [],
   "source": [
    "from Scripts.experiments import create_precision_recall_curves"
   ]
  },
  {
   "cell_type": "code",
   "execution_count": 18,
   "id": "05fbfa27",
   "metadata": {},
   "outputs": [
    {
     "data": {
      "image/png": "[encoded data removed]",
      "text/plain": [
       "<Figure size 1152x576 with 2 Axes>"
      ]
     },
     "metadata": {},
     "output_type": "display_data"
    }
   ],
   "source": [
    "# How does choice of betas and matrix size affect results?\n",
    "sizes = [20, 40, 60, 80, 100]\n",
    "betas = [\n",
    "    10**np.arange(-2, 0, 0.05), # 20\n",
    "    10**np.arange(-2, 0, 0.05), # 40\n",
    "    10**np.arange(-1, 1, 0.05), # 60\n",
    "    10**np.arange(-1, 1, 0.1), # 80\n",
    "    10**np.arange(-1, 1, 0.1) # 100\n",
    "]\n",
    "interesting_indices = [\n",
    "    [2, 16, 24],\n",
    "    [2, 16, 24],\n",
    "    [2, 12, 16],\n",
    "    [2, 6, 10],\n",
    "    [2, 6, 10, 14]\n",
    "]\n",
    "vary_sizes_experiment = dict({})\n",
    "for idx, size in enumerate(sizes):\n",
    "    fig, axs, dicts = create_precision_recall_curves(\n",
    "        betas[idx],\n",
    "        100,\n",
    "        size,\n",
    "        attempts=25,\n",
    "        indices_to_highlight=interesting_indices[idx]\n",
    "    )\n",
    "    vary_sizes_experiment[size] = dicts\n",
    "    fig.savefig(f'../Plots/Vary-Sizes-Experiment/Precision-Recall-Vary-Sizes-{size}')\n",
    "    display(fig) # Force figure to display NOW (`fig.show()` does not do this)\n",
    "    plt.close(fig) # Suppress double-displaying the figure\n",
    "np.save('../Data/Vary-Sizes-Experiment/Precisions-and-Recalls.npy', vary_sizes_experiment) \n",
    "    \n",
    "# Observation: the larger the size, the more 'stable' the results are, as in\n",
    "# the precision-recall curve is smoother"
   ]
  },
  {
   "cell_type": "code",
   "execution_count": null,
   "id": "80739be8",
   "metadata": {},
   "outputs": [],
   "source": [
    "samples = [1, 2, 5, 10, 20, 50, 100]\n",
    "vary_samples_experiment = dict({})\n",
    "for idx, sample in enumerate(samples):\n",
    "    fig, axs, dicts = create_precision_recall_curves(\n",
    "        10**np.arange(-1, 1, 0.05),\n",
    "        sample,\n",
    "        50,\n",
    "        attempts=25,\n",
    "        indices_to_highlight=[2, 12, 16, 24],\n",
    "        verbose=False\n",
    "    )\n",
    "    vary_sizes_experiment[sample] = dicts\n",
    "    fig.savefig(f'../Plots/Vary-Samples-Experiment/Precision-Recall-Vary-Samples-{sample}')\n",
    "    display(fig) # Force figure to display NOW (`fig.show()` does not do this)\n",
    "    plt.close(fig) # Suppress double-displaying the figure\n",
    "np.save('../Data/Vary-Samples-Experiment/Precisions-and-Recalls.npy', vary_sizes_experiment) \n",
    "\n",
    "# Observation: it seems like low sample counts take longer to converge"
   ]
  }
 ],
 "metadata": {
  "kernelspec": {
   "display_name": "Python 3 (ipykernel)",
   "language": "python",
   "name": "python3"
  },
  "language_info": {
   "codemirror_mode": {
    "name": "ipython",
    "version": 3
   },
   "file_extension": ".py",
   "mimetype": "text/x-python",
   "name": "python",
   "nbconvert_exporter": "python",
   "pygments_lexer": "ipython3",
   "version": "3.9.12"
  }
 },
 "nbformat": 4,
 "nbformat_minor": 5
}
