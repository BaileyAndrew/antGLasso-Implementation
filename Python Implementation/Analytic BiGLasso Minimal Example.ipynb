{
 "cells": [
  {
   "cell_type": "code",
   "execution_count": 1,
   "id": "b479c08f",
   "metadata": {},
   "outputs": [
    {
     "name": "stdout",
     "output_type": "stream",
     "text": [
      "Python Version 3.9.12 (main, Apr  5 2022, 01:53:17) \n",
      "[Clang 12.0.0 ]\n",
      "Numpy Version 1.21.5\n",
      "Scipy Version 1.7.3\n",
      "Sklearn Version 1.0.2\n"
     ]
    }
   ],
   "source": [
    "import dependencies\n",
    "import line_profiler\n",
    "import numpy as np\n",
    "\n",
    "from Scripts.generate_data import generate_Ys\n",
    "from Scripts.scBiGLasso import analyticBiGLasso\n",
    "from Scripts.utilities import generate_confusion_matrices\n",
    "from Scripts.utilities import precision, recall, accuracy\n",
    "\n",
    "np.set_printoptions(precision=3, suppress=True)\n",
    "%load_ext line_profiler\n",
    "%load_ext autoreload\n",
    "%autoreload 2"
   ]
  },
  {
   "cell_type": "code",
   "execution_count": 28,
   "id": "6800ec67",
   "metadata": {},
   "outputs": [
    {
     "data": {
      "text/plain": [
       "(100, 100, 20)"
      ]
     },
     "execution_count": 28,
     "metadata": {},
     "output_type": "execute_result"
    }
   ],
   "source": [
    "# Standard way to generate matrix variate data, takes ~1 second\n",
    "Psi_gen, Theta_gen, Ys = generate_Ys(\n",
    "    m=100,\n",
    "    p=(p:=100),\n",
    "    n=(n:=20),\n",
    "    expected_nonzero_psi=n**2,#n**2 / 5, # (divide by 5 for sparsity)\n",
    "    expected_nonzero_theta=p**2,#p**2 / 5,\n",
    "    structure=\"Kronecker Sum\"\n",
    ")\n",
    "Ys.shape"
   ]
  },
  {
   "cell_type": "code",
   "execution_count": 42,
   "id": "86d01f3a",
   "metadata": {},
   "outputs": [
    {
     "name": "stdout",
     "output_type": "stream",
     "text": [
      "Psi vindication: 0.18028892294419974\n",
      "Theta vindication: 0.9690547914837584\n",
      "===Psi===\n",
      "[[124.   0.]\n",
      " [ 82. 174.]]\n",
      "precision(Psi_cm)=1.000 \n",
      "recall(Psi_cm)=0.602 \n",
      "accuracy(Psi_cm)=0.784\n",
      "\n",
      "==Theta==\n",
      "[[4096.  760.]\n",
      " [ 932. 4112.]]\n",
      "precision(Theta_cm)=0.843 \n",
      "recall(Theta_cm)=0.815 \n",
      "accuracy(Theta_cm)=0.829\n"
     ]
    }
   ],
   "source": [
    "# Even when vindication is low, we still get excellent results?\n",
    "Psi, Theta = analyticBiGLasso(\n",
    "    Ys,\n",
    "    beta_1 = 0.002,\n",
    "    beta_2 = 0.02,\n",
    "    vindicate = True\n",
    ")\n",
    "print(\"===Psi===\")\n",
    "print(Psi_cm := generate_confusion_matrices(Psi, Psi_gen, mode='Negative'))\n",
    "print(\n",
    "    f\"{precision(Psi_cm)=:.3f}\",\n",
    "    f\"\\n{recall(Psi_cm)=:.3f}\",\n",
    "    f\"\\n{accuracy(Psi_cm)=:.3f}\"\n",
    ")\n",
    "print(\"\\n==Theta==\")\n",
    "print(Theta_cm := generate_confusion_matrices(Theta, Theta_gen, mode='Negative'))\n",
    "print(\n",
    "    f\"{precision(Theta_cm)=:.3f}\",\n",
    "    f\"\\n{recall(Theta_cm)=:.3f}\",\n",
    "    f\"\\n{accuracy(Theta_cm)=:.3f}\"\n",
    ")"
   ]
  },
  {
   "cell_type": "code",
   "execution_count": 4,
   "id": "3bd7c006",
   "metadata": {},
   "outputs": [],
   "source": [
    "# You can get detailed runtime info on analyticBiGLasso by running this cell\n",
    "kwargs = {\n",
    "    \"Ys\": Ys,\n",
    "    \"beta_1\": 0.02,\n",
    "    \"beta_2\": 0.02,\n",
    "}\n",
    "%lprun -f analyticBiGLasso analyticBiGLasso(**kwargs)"
   ]
  }
 ],
 "metadata": {
  "kernelspec": {
   "display_name": "Python 3 (ipykernel)",
   "language": "python",
   "name": "python3"
  },
  "language_info": {
   "codemirror_mode": {
    "name": "ipython",
    "version": 3
   },
   "file_extension": ".py",
   "mimetype": "text/x-python",
   "name": "python",
   "nbconvert_exporter": "python",
   "pygments_lexer": "ipython3",
   "version": "3.9.12"
  }
 },
 "nbformat": 4,
 "nbformat_minor": 5
}
