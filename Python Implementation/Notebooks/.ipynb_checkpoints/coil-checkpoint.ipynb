{
 "cells": [
  {
   "cell_type": "code",
   "execution_count": 100,
   "id": "173baf6f",
   "metadata": {},
   "outputs": [],
   "source": [
    "import sys\n",
    "sys.path.append('..')\n",
    "import dependencies\n",
    "import soft_dependencies"
   ]
  },
  {
   "cell_type": "code",
   "execution_count": 101,
   "id": "f46cecd6",
   "metadata": {},
   "outputs": [],
   "source": [
    "import numpy as np\n",
    "import pandas as pd\n",
    "import matplotlib.pyplot as plt\n",
    "from PIL import Image\n",
    "import glob"
   ]
  },
  {
   "cell_type": "code",
   "execution_count": 102,
   "id": "ec480a49",
   "metadata": {},
   "outputs": [],
   "source": [
    "from Scripts.nonparanormal_skeptic import nonparanormal_skeptic\n",
    "from Scripts.anBiGLasso_cov import anBiGLasso\n",
    "from Scripts.EiGLasso import EiGLasso_cov as EiGLasso\n",
    "from Scripts.scBiGLasso import scBiGLasso_cov as scBiGLasso\n",
    "from Scripts.utilities import binarize_matrix"
   ]
  },
  {
   "cell_type": "code",
   "execution_count": 103,
   "id": "3909d745",
   "metadata": {},
   "outputs": [
    {
     "name": "stdout",
     "output_type": "stream",
     "text": [
      "The line_profiler extension is already loaded. To reload it, use:\n",
      "  %reload_ext line_profiler\n",
      "The memory_profiler extension is already loaded. To reload it, use:\n",
      "  %reload_ext memory_profiler\n",
      "The autoreload extension is already loaded. To reload it, use:\n",
      "  %reload_ext autoreload\n"
     ]
    }
   ],
   "source": [
    "np.set_printoptions(precision=3, suppress=True)\n",
    "%load_ext line_profiler\n",
    "%load_ext memory_profiler\n",
    "%load_ext autoreload\n",
    "%autoreload 2"
   ]
  },
  {
   "cell_type": "markdown",
   "id": "73a8e226",
   "metadata": {},
   "source": [
    "# COIL Data\n",
    "From the 'processed' dataset available here: https://cave.cs.columbia.edu/repository/COIL-20\n",
    "\n",
    "We only look at the duck data."
   ]
  },
  {
   "cell_type": "code",
   "execution_count": 143,
   "id": "53d9022f",
   "metadata": {},
   "outputs": [
    {
     "data": {
      "text/plain": [
       "<matplotlib.image.AxesImage at 0x7ff2b55f3a00>"
      ]
     },
     "execution_count": 143,
     "metadata": {},
     "output_type": "execute_result"
    },
    {
     "data": {
      "image/png": "[encoded data removed]",
      "text/plain": [
       "<Figure size 432x288 with 1 Axes>"
      ]
     },
     "metadata": {
      "needs_background": "light"
     },
     "output_type": "display_data"
    }
   ],
   "source": [
    "# Here we load the image, and then drop every second pixel to reduce the image size\n",
    "# to be a more manageable 32 by 32.  In the BiGLasso paper, they considered 9 by 9\n",
    "import glob\n",
    "files = sorted(glob.glob('../../Data/coil-20-proc/*.png'))\n",
    "duck_mat = np.array(\n",
    "    [np.array(Image.open(f))[::4, ::4].reshape(32*32) for f in files]\n",
    ").reshape((20, 72, 32*32))\n",
    "duck_mat.shape # object, frame, flattened pixel\n",
    "plt.imshow(duck_mat[10, 0].reshape(32, 32))"
   ]
  },
  {
   "cell_type": "code",
   "execution_count": 144,
   "id": "2600cba7",
   "metadata": {},
   "outputs": [],
   "source": [
    "T, S = nonparanormal_skeptic(duck_mat[10][np.newaxis, ...]) "
   ]
  },
  {
   "cell_type": "code",
   "execution_count": 130,
   "id": "4e04e58c",
   "metadata": {},
   "outputs": [],
   "source": [
    "from Scripts.anBiGLasso import calculateEigenvalues\n",
    "from Scripts.anBiGLasso_cov import eigenvalues_MLE\n",
    "# Runtime analysis\n",
    "%lprun -f anBiGLasso -f calculateEigenvalues -f eigenvalues_MLE \\\n",
    "    anBiGLasso(T, S, beta_1 = 0.002, beta_2 = 0.002)"
   ]
  },
  {
   "cell_type": "code",
   "execution_count": 157,
   "id": "32b8e136",
   "metadata": {},
   "outputs": [],
   "source": [
    "Psi, Theta = anBiGLasso(T, S, beta_1 = 0.00085, beta_2 = 0.00002, B_approx_iters = 10)"
   ]
  },
  {
   "cell_type": "code",
   "execution_count": 169,
   "id": "6e0d7857",
   "metadata": {},
   "outputs": [
    {
     "name": "stdout",
     "output_type": "stream",
     "text": [
      "[[1. 1. 1. ... 1. 1. 1.]\n",
      " [1. 1. 1. ... 1. 1. 1.]\n",
      " [1. 1. 1. ... 1. 1. 1.]\n",
      " ...\n",
      " [1. 1. 1. ... 1. 1. 1.]\n",
      " [1. 1. 1. ... 1. 1. 1.]\n",
      " [1. 1. 1. ... 1. 1. 1.]]\n"
     ]
    },
    {
     "data": {
      "image/png": "[encoded data removed]",
      "text/plain": [
       "<Figure size 1440x720 with 2 Axes>"
      ]
     },
     "metadata": {},
     "output_type": "display_data"
    }
   ],
   "source": [
    "Psi_ = binarize_matrix(Psi, mode='Nonzero')\n",
    "np.fill_diagonal(Psi_, 1)\n",
    "Theta_ = binarize_matrix(Theta, mode='Nonzero')\n",
    "np.fill_diagonal(Theta_, 1)\n",
    "\n",
    "with plt.style.context('Solarize_Light2'):\n",
    "    fig, (ax1, ax2) = plt.subplots(ncols=2, figsize=(20, 10))\n",
    "    \n",
    "    ax1.grid(False)\n",
    "    ax1.matshow(Psi_)\n",
    "    ax1.set_title('Psi (frames)')\n",
    "    \n",
    "    ax2.matshow(Theta_)\n",
    "    ax2.grid(False)\n",
    "    ax2.set_title('Theta (pixels)')\n",
    "    \n",
    "    # Add gridlines for pixel rows\n",
    "    # We skip rows b/c otherwise it would be too cluttered\n",
    "    #for i in range(16):\n",
    "    #    ax2.axvline(64*i)\n",
    "    #    ax2.axhline(64*i)"
   ]
  }
 ],
 "metadata": {
  "kernelspec": {
   "display_name": "Python 3 (ipykernel)",
   "language": "python",
   "name": "python3"
  },
  "language_info": {
   "codemirror_mode": {
    "name": "ipython",
    "version": 3
   },
   "file_extension": ".py",
   "mimetype": "text/x-python",
   "name": "python",
   "nbconvert_exporter": "python",
   "pygments_lexer": "ipython3",
   "version": "3.9.12"
  }
 },
 "nbformat": 4,
 "nbformat_minor": 5
}
