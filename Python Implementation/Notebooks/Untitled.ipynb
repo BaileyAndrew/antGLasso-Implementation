{
 "cells": [
  {
   "cell_type": "code",
   "execution_count": 1,
   "id": "61ae2700",
   "metadata": {},
   "outputs": [
    {
     "name": "stdout",
     "output_type": "stream",
     "text": [
      "Python Version 3.9.12 (main, Apr  5 2022, 01:53:17) \n",
      "[Clang 12.0.0 ]\n",
      "Numpy Version 1.21.5\n",
      "Scipy Version 1.7.3\n",
      "Sklearn Version 1.0.2\n",
      "Matplotlib Version 3.5.1\n",
      "Pandas Version 1.4.2\n",
      "Line Profiler Version 3.3.1\n",
      "Memory Profiler Version 0.58.0\n"
     ]
    }
   ],
   "source": [
    "import sys\n",
    "sys.path.append(\"..\")\n",
    "import dependencies\n",
    "import soft_dependencies\n",
    "import numpy as np\n",
    "import pandas as pd\n",
    "import matplotlib.pyplot as plt\n",
    "from Scripts.nonparanormal_skeptic import nonparanormal_skeptic\n",
    "from Scripts.anBiGLasso_cov import anBiGLasso\n",
    "from Scripts.EiGLasso import EiGLasso_cov as EiGLasso\n",
    "from Scripts.scBiGLasso import scBiGLasso_cov as scBiGLasso\n",
    "from Scripts.utilities import binarize_matrix\n",
    "np.set_printoptions(precision=3, suppress=True)\n",
    "%load_ext line_profiler\n",
    "%load_ext memory_profiler\n",
    "%load_ext autoreload\n",
    "%autoreload 2"
   ]
  },
  {
   "cell_type": "code",
   "execution_count": 3,
   "id": "4d33fc68",
   "metadata": {},
   "outputs": [],
   "source": [
    "import h5py"
   ]
  },
  {
   "cell_type": "code",
   "execution_count": 4,
   "id": "2763d7e3",
   "metadata": {},
   "outputs": [],
   "source": [
    "f = h5py.File('../../Data/E-MTAB-10697/filtered_feature_bc_matrix_1001.h5', 'r')"
   ]
  },
  {
   "cell_type": "code",
   "execution_count": 62,
   "id": "03688995",
   "metadata": {},
   "outputs": [
    {
     "name": "stdout",
     "output_type": "stream",
     "text": [
      "(3429120,)\n",
      "(33550,)\n",
      "(4571,)\n",
      "[33550  4571]\n",
      "[      0     630    1128 ... 3428049 3428547 3429120]\n"
     ]
    }
   ],
   "source": [
    "counts = f['matrix']['data']\n",
    "genes = f['matrix']['features']['name']\n",
    "barcodes = f['matrix']['barcodes']\n",
    "print(counts.shape)\n",
    "print(genes.shape)\n",
    "print(barcodes.shape)\n",
    "print(f['matrix']['shape'][:])\n",
    "print(f['matrix']['indptr'][:])\n",
    "counts = counts[:][f['matrix']['indptr'][:-1]]"
   ]
  }
 ],
 "metadata": {
  "kernelspec": {
   "display_name": "Python 3 (ipykernel)",
   "language": "python",
   "name": "python3"
  },
  "language_info": {
   "codemirror_mode": {
    "name": "ipython",
    "version": 3
   },
   "file_extension": ".py",
   "mimetype": "text/x-python",
   "name": "python",
   "nbconvert_exporter": "python",
   "pygments_lexer": "ipython3",
   "version": "3.9.12"
  }
 },
 "nbformat": 4,
 "nbformat_minor": 5
}
